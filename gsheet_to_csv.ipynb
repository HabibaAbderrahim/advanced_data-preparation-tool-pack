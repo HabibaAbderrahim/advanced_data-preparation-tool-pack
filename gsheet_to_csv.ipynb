{
  "nbformat": 4,
  "nbformat_minor": 0,
  "metadata": {
    "colab": {
      "provenance": [],
      "authorship_tag": "ABX9TyNWCxHFJR3YzG1H7ey9sFUl",
      "include_colab_link": true
    },
    "kernelspec": {
      "name": "python3",
      "display_name": "Python 3"
    },
    "language_info": {
      "name": "python"
    }
  },
  "cells": [
    {
      "cell_type": "markdown",
      "metadata": {
        "id": "view-in-github",
        "colab_type": "text"
      },
      "source": [
        "<a href=\"https://colab.research.google.com/github/HabibaAbderrahim/advanced_data-preparation-tool-pack/blob/main/gsheet_to_csv.ipynb\" target=\"_parent\"><img src=\"https://colab.research.google.com/assets/colab-badge.svg\" alt=\"Open In Colab\"/></a>"
      ]
    },
    {
      "cell_type": "code",
      "source": [
        "import time\n",
        "import os\n",
        "import gspread\n",
        "import pandas as pd"
      ],
      "metadata": {
        "id": "FgzOmOLBCbD-"
      },
      "execution_count": null,
      "outputs": []
    },
    {
      "cell_type": "code",
      "source": [
        "from google.colab import drive\n",
        "drive.mount('/content/drive')\n"
      ],
      "metadata": {
        "id": "wHesyV6YDRw4"
      },
      "execution_count": null,
      "outputs": []
    },
    {
      "cell_type": "code",
      "source": [
        "# Main directory containing plant subfolders on Google Drive\n",
        "main_directory = '/content/drive/MyDrive/Folder_Analysis'"
      ],
      "metadata": {
        "id": "JYgFmpJlDTmj"
      },
      "execution_count": null,
      "outputs": []
    },
    {
      "cell_type": "code",
      "source": [
        "# Authenticate with Google Sheets API\n",
        "from google.colab import auth\n",
        "auth.authenticate_user()\n",
        "\n",
        "import gspread\n",
        "from google.auth import default\n",
        "creds, _ = default()\n",
        "\n",
        "gc = gspread.authorize(creds)"
      ],
      "metadata": {
        "id": "5jb_Mi_DCpl-"
      },
      "execution_count": null,
      "outputs": []
    },
    {
      "cell_type": "code",
      "source": [
        "# Create an empty DataFrame to store all data\n",
        "combined_data = pd.DataFrame()"
      ],
      "metadata": {
        "id": "Nv3t7SFFCwq1"
      },
      "execution_count": null,
      "outputs": []
    },
    {
      "cell_type": "code",
      "source": [
        "# Loop through each subfolder\n",
        "for plant_folder in os.listdir(main_directory):\n",
        "    plant_path = os.path.join(main_directory, plant_folder)\n",
        "\n",
        "    # Check if it's a directory\n",
        "    if os.path.isdir(plant_path):\n",
        "        for file in os.listdir(plant_path):\n",
        "            if file.endswith('.gsheet'):  # Handle Google Sheets\n",
        "                file_name = os.path.splitext(file)[0]  # Remove the file extension\n",
        "                plant_name = plant_folder  # Assign the folder name as \"Plant Name\"\n",
        "\n",
        "                # Attempt to open the Google Sheets document by title with retries\n",
        "                for _ in range(3):  # Try 3 times\n",
        "                    try:\n",
        "                        worksheet = gc.open(file_name).sheet1  # Use file_name as the title\n",
        "                        data = worksheet.get_all_records()\n",
        "                        df = pd.DataFrame(data)\n",
        "\n",
        "                        # Add a \"Plant Name\" column and set it to the current plant's name\n",
        "                        df['Plant Name'] = plant_name\n",
        "                        combined_data = combined_data.append(df, ignore_index=True)\n",
        "                        break  # Success, break out of the retry loop\n",
        "                    except gspread.SpreadsheetNotFound:\n",
        "                        print(f\"Google Sheets document with title '{file_name}' not found.\")\n",
        "                        break  # No need to retry if the document is not found\n",
        "                    except gspread.exceptions.APIError as e:\n",
        "                        print(f\"APIError: {e}\")\n",
        "                        print(\"Retrying in 5 seconds...\")\n",
        "                        time.sleep(5)  # Wait for 5 seconds before retrying\n",
        "\n",
        "# Save the combined data to a CSV file\n",
        "combined_data.to_csv('/content/drive/My Drive/combined_plant_data_gsheet.csv', index=False)\n"
      ],
      "metadata": {
        "id": "lf4YHXJnCCf-"
      },
      "execution_count": null,
      "outputs": []
    }
  ]
}